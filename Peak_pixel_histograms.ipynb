{
 "cells": [
  {
   "cell_type": "code",
   "execution_count": null,
   "id": "d9580ee6-97b6-441b-8488-d97c2a0756ad",
   "metadata": {},
   "outputs": [],
   "source": [
    "%matplotlib inline\n",
    "\n",
    "import numpy as np\n",
    "import h5py\n",
    "from extra_data import open_run\n",
    "from tqdm import tqdm\n",
    "from IPython.display import clear_output, display\n",
    "#from ppxfl import *\n",
    "\n",
    "from matplotlib import pyplot as plt\n"
   ]
  },
  {
   "cell_type": "code",
   "execution_count": null,
   "id": "6272f89d-3595-43ba-9c8e-6040e8bf3a5c",
   "metadata": {},
   "outputs": [],
   "source": [
    "proposal = 2808\n",
    "run      = 241"
   ]
  },
  {
   "cell_type": "code",
   "execution_count": null,
   "id": "217bed66-1e2c-4d52-8c98-d425257b7a9e",
   "metadata": {},
   "outputs": [],
   "source": [
    "run = open_run(proposal=proposal, run=run, data=\"proc\")"
   ]
  },
  {
   "cell_type": "code",
   "execution_count": null,
   "id": "3e1f4648-7936-4c1f-b3d4-39c56954a6cd",
   "metadata": {},
   "outputs": [],
   "source": [
    "run.info()"
   ]
  },
  {
   "cell_type": "code",
   "execution_count": null,
   "id": "56abf857-8466-4e5a-97ae-5db831005f8b",
   "metadata": {},
   "outputs": [],
   "source": [
    "data_module0 = run['FXE_DET_LPD1M-1/DET/10CH0:xtdf', 'image.data'].ndarray()"
   ]
  },
  {
   "cell_type": "code",
   "execution_count": null,
   "id": "73bbf7b5-775a-435d-b466-281d3996f91d",
   "metadata": {},
   "outputs": [],
   "source": [
    "data_module0_test = np.squeeze(data_module0, axis=1)"
   ]
  },
  {
   "cell_type": "code",
   "execution_count": null,
   "id": "c9287226-5fce-423b-915b-b7266dbe4ff0",
   "metadata": {},
   "outputs": [],
   "source": [
    "np.shape(data_"
   ]
  },
  {
   "cell_type": "code",
   "execution_count": null,
   "id": "925d595e-6045-423f-9c5f-7e312488cf70",
   "metadata": {},
   "outputs": [],
   "source": [
    "hits =np.zeros([1,3])\n",
    "intenisty_cutoff = 15000\n",
    "\n",
    "for i in range(0,256):\n",
    "    clear_output(wait=True)\n",
    "    print(i)\n",
    "    for j in range(0,256): \n",
    "        idx = data_module0[:,i,j][data_module0[:,i,j]< intenisty_cutoff]\n",
    "\n",
    "        for k in range(0,len(idx)):\n",
    "            newrow =[i,j,idx[k]]\n",
    "            hits = np.vstack([hits, newrow])\n",
    "print(np.shape(hits))            "
   ]
  },
  {
   "cell_type": "code",
   "execution_count": null,
   "id": "42d6fe4e-4ea9-4016-9b88-8b6e0dc37ccf",
   "metadata": {},
   "outputs": [],
   "source": [
    "print((hits)) "
   ]
  },
  {
   "cell_type": "code",
   "execution_count": null,
   "id": "f617d02c-5804-45e7-8c21-cb8be9025c8b",
   "metadata": {},
   "outputs": [],
   "source": [
    "pixel_marker = np.zeros([256,256])\n",
    "[hit_shape,hit_shape_1] = np.shape(hits)\n",
    "for idx in range(0,hit_shape):\n",
    "    [i,j,k] = hits[idx,:]\n",
    "    pixel_marker[int(i),int(j)] = pixel_marker[int(i),int(j)] + 1"
   ]
  },
  {
   "cell_type": "code",
   "execution_count": null,
   "id": "ae0de6ec-a501-4aae-a631-00713fc1b718",
   "metadata": {},
   "outputs": [],
   "source": [
    "print((pixel_marker[6,29]))"
   ]
  },
  {
   "cell_type": "code",
   "execution_count": null,
   "id": "3d8cc51b-a892-4b00-a68c-4c69ef3996a5",
   "metadata": {},
   "outputs": [],
   "source": [
    "print(np.shape(pixel_marker))"
   ]
  },
  {
   "cell_type": "code",
   "execution_count": null,
   "id": "f3612c74-f457-491d-9998-1a04dacd1089",
   "metadata": {},
   "outputs": [],
   "source": [
    "%matplotlib inline \n",
    "#Vertical is the first number (i) and horizontal is j #\n",
    "plt.rcParams['figure.figsize'] = [10, 10]\n",
    "plt.matshow(pixel_marker, vmin=0, vmax=10)\n",
    "plt.colorbar()\n",
    "plt.title('Number or times pixels have exceeded 15000 counts, panel 7 run 241')\n",
    "plt.show"
   ]
  },
  {
   "cell_type": "code",
   "execution_count": null,
   "id": "fc7e206c-0f73-4560-86ea-871b9bbf19c3",
   "metadata": {},
   "outputs": [],
   "source": [
    "plt.hist(hits[:,0], bins=255)\n",
    "#plt.xlim([190, 200])\n",
    "plt.show()\n",
    "plt.hist(hits[:,1], bins=255)\n",
    "#plt.xlim([20, 25])\n",
    "plt.show()"
   ]
  },
  {
   "cell_type": "code",
   "execution_count": null,
   "id": "e174549c-a807-45fb-a74e-b68a81bb0eeb",
   "metadata": {},
   "outputs": [],
   "source": [
    "import matplotlib.pyplot as plt\n",
    "plt.hist(hits[:,2], bins=10000)\n",
    "#plt.xlim([15000, 30000])\n",
    "#plt.ylim([0, 150])\n",
    "plt.show()"
   ]
  },
  {
   "cell_type": "code",
   "execution_count": null,
   "id": "c0cb2d97-e979-4dec-b110-ecedb89c48cb",
   "metadata": {},
   "outputs": [],
   "source": [
    "\n",
    "plt.rcParams['figure.figsize'] = [5, 5]\n",
    "plt.hist(data_module0[:,225,225], bins=10000)\n",
    "plt.xlim([0,5000])\n",
    "plt.show()"
   ]
  },
  {
   "cell_type": "code",
   "execution_count": null,
   "id": "7e1b3dd9-e9bb-411a-83fa-6b83ea726412",
   "metadata": {},
   "outputs": [],
   "source": [
    "all_hits = np.reshape(data_module0, (1,np.product(data_module0.shape)))[0]"
   ]
  },
  {
   "cell_type": "code",
   "execution_count": null,
   "id": "68953d6d-aa0f-42a4-91b3-2aafbe7e64e4",
   "metadata": {},
   "outputs": [],
   "source": [
    "plt.hist(all_hits[:,], bins=5000)\n",
    "plt.xlim([100, 5000])\n",
    "plt.show()"
   ]
  },
  {
   "cell_type": "code",
   "execution_count": null,
   "id": "c1615f19-cc3c-4387-840b-a576b9d0b1d6",
   "metadata": {},
   "outputs": [],
   "source": [
    "import matplotlib.pyplot as plt\n",
    "plt.hist(all_hits[:,], bins=5000)\n",
    "plt.xlim([0, 6000])\n",
    "plt.show()"
   ]
  },
  {
   "cell_type": "code",
   "execution_count": null,
   "id": "a802763b-e21d-4689-9b31-9d426cf273cf",
   "metadata": {},
   "outputs": [],
   "source": [
    "plt.hist(all_hits[:,], bins=5000)\n",
    "plt.xlim([5000, 20000])\n",
    "plt.ylim([0, 5000000])\n",
    "plt.show()"
   ]
  },
  {
   "cell_type": "code",
   "execution_count": null,
   "id": "3a6efb19-b2c3-428b-9db6-299c6e1ca08f",
   "metadata": {},
   "outputs": [],
   "source": [
    "plt.hist(all_hits[:,], bins=5000)\n",
    "plt.xlim([15000, 20000])\n",
    "plt.ylim([0, 1500])\n",
    "plt.show()"
   ]
  },
  {
   "cell_type": "code",
   "execution_count": null,
   "id": "5b69c091-9b4f-4235-a87f-4d74a2c0046f",
   "metadata": {},
   "outputs": [],
   "source": [
    "import matplotlib.pyplot as plt\n",
    "plt.hist(all_hits[:,], bins=5000)\n",
    "plt.xlim([18000, 50000])\n",
    "plt.ylim([0, 400])\n",
    "plt.show()"
   ]
  },
  {
   "cell_type": "code",
   "execution_count": null,
   "id": "eb97e2ec-99ee-4e26-a5f4-3cc08656e642",
   "metadata": {},
   "outputs": [],
   "source": [
    "plt.hist(all_hits[:,], bins=50)\n",
    "plt.xlim([600, 6000])\n",
    "plt.show()"
   ]
  },
  {
   "cell_type": "code",
   "execution_count": null,
   "id": "24e89044-1789-41c8-bc0f-62a15c23b111",
   "metadata": {},
   "outputs": [],
   "source": [
    "plt.rcParams['figure.figsize'] = [5, 5]\n",
    "plt.hist(data_module0[:,200,60], bins=1000)\n",
    "#plt.xlim([5000, 20000])\n",
    "#plt.ylim([0, 50])\n",
    "plt.show()"
   ]
  },
  {
   "cell_type": "code",
   "execution_count": null,
   "id": "2de74dbc-8fbd-4987-8b5f-a91b0125529c",
   "metadata": {},
   "outputs": [],
   "source": [
    "plt.hist(data_module0[:,205,30], bins=2000)\n",
    "plt.xlim([1000, 3000])\n",
    "plt.show()"
   ]
  },
  {
   "cell_type": "code",
   "execution_count": null,
   "id": "573a6842-6f10-4058-866e-0c929b5a6dca",
   "metadata": {},
   "outputs": [],
   "source": [
    "from extra_data.components import LPD1M\n",
    "lpd = LPD1M(run)\n",
    "image_data = lpd.get_array('image.data')\n",
    "print(\"Data shape:\", image_data.shape)\n",
    "print(\"Dimensions:\", image_data.dims)"
   ]
  },
  {
   "cell_type": "code",
   "execution_count": null,
   "id": "ff719f93-2ef9-4d7c-9063-2ad29d43bae3",
   "metadata": {},
   "outputs": [],
   "source": [
    "plt.rcParams['figure.figsize'] = [5, 5]\n",
    "plt.hist(data_module0_test[:,255,0], bins=1000)\n",
    "plt.xlabel(\"Intenisty\")\n",
    "plt.ylabel(\"Number\")\n",
    "#plt.xlim([2000, 3000])\n",
    "#plt.ylim([0, 10])\n",
    "plt.show()"
   ]
  },
  {
   "cell_type": "code",
   "execution_count": null,
   "id": "d7111cd0-87f2-4e06-9587-44c50f0ecf32",
   "metadata": {},
   "outputs": [],
   "source": []
  }
 ],
 "metadata": {
  "kernelspec": {
   "display_name": "Python 3.9",
   "language": "python",
   "name": "python3"
  },
  "language_info": {
   "codemirror_mode": {
    "name": "ipython",
    "version": 3
   },
   "file_extension": ".py",
   "mimetype": "text/x-python",
   "name": "python",
   "nbconvert_exporter": "python",
   "pygments_lexer": "ipython3",
   "version": "3.9.16"
  }
 },
 "nbformat": 4,
 "nbformat_minor": 5
}
