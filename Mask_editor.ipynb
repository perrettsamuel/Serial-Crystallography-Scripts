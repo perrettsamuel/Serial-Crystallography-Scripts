{
 "cells": [
  {
   "cell_type": "code",
   "execution_count": 1,
   "id": "06a9647d-2ca4-49b6-947e-f0bff093df99",
   "metadata": {},
   "outputs": [],
   "source": [
    "import numpy as np\n",
    "import h5py\n",
    "import matplotlib.pyplot as plt\n",
    "from extra_geom import LPD_1MGeometry"
   ]
  },
  {
   "cell_type": "code",
   "execution_count": null,
   "id": "ea88a75d-fdd7-4e29-bcc9-092aef170e1e",
   "metadata": {},
   "outputs": [],
   "source": [
    "with h5py.File('combined_r0241_mask_run191_244.h5', 'r')  as h5f: # file will be closed when we exit from WITH scope\n",
    "    h5f.visititems(print_name)"
   ]
  },
  {
   "cell_type": "code",
   "execution_count": 10,
   "id": "6261d283-011a-46d7-b7b0-bd8a49a586f0",
   "metadata": {},
   "outputs": [],
   "source": [
    "hf = h5py.File(\"/gpfs/exfel/u/scratch/FXE/202202/p002808/sperrett/Notebook_scripts/sam_lyso_mask_1.h5\", 'r')\n",
    "old_mask= np.array(hf['/entry_1/data_1/mask'][:]) "
   ]
  },
  {
   "cell_type": "code",
   "execution_count": 11,
   "id": "3a5f9ffb-32ff-4339-9479-45f6dca768b8",
   "metadata": {},
   "outputs": [],
   "source": [
    "hf = h5py.File(\"sam_lyso_mask_2.h5\", 'r')\n",
    "mask= np.array(hf['/entry_1/data_1/mask'][:]) "
   ]
  },
  {
   "cell_type": "code",
   "execution_count": 12,
   "id": "7dfbc2cc-eec2-4680-a527-e5eb892b0e9c",
   "metadata": {},
   "outputs": [
    {
     "ename": "SyntaxError",
     "evalue": "invalid syntax (3734671723.py, line 1)",
     "output_type": "error",
     "traceback": [
      "\u001b[0;36m  File \u001b[0;32m\"/tmp/ipykernel_22816/3734671723.py\"\u001b[0;36m, line \u001b[0;32m1\u001b[0m\n\u001b[0;31m    mask = mask.astype(int)print(mask)\u001b[0m\n\u001b[0m                           ^\u001b[0m\n\u001b[0;31mSyntaxError\u001b[0m\u001b[0;31m:\u001b[0m invalid syntax\n"
     ]
    }
   ],
   "source": [
    "mask = mask.astype(int)print(mask)"
   ]
  },
  {
   "cell_type": "code",
   "execution_count": 13,
   "id": "fcc78af3-7eb4-4566-90a1-efb74fe743bc",
   "metadata": {},
   "outputs": [],
   "source": [
    "new_mask = mask"
   ]
  },
  {
   "cell_type": "code",
   "execution_count": 14,
   "id": "a4c98c0c-28ba-448b-a75a-5e458003da1c",
   "metadata": {},
   "outputs": [],
   "source": [
    "new_mask[ 4 , 0:256 , 0:125 ]=0\n"
   ]
  },
  {
   "cell_type": "code",
   "execution_count": 15,
   "id": "e56dd0a0-bf3d-4540-8a66-ab3a80f8bd0e",
   "metadata": {},
   "outputs": [],
   "source": [
    "geom_file = '/gpfs/exfel/u/scratch/FXE/202202/p002808/sperrett/Geom/v10_sam.geom'\n",
    "geom = LPD_1MGeometry.from_crystfel_geom(geom_file)"
   ]
  },
  {
   "cell_type": "code",
   "execution_count": null,
   "id": "0bd25bf9-325b-4236-836b-36999d6c8062",
   "metadata": {},
   "outputs": [],
   "source": []
  },
  {
   "cell_type": "code",
   "execution_count": 19,
   "id": "219c9bd2-c5a7-4622-ba31-c329fadac628",
   "metadata": {},
   "outputs": [
    {
     "data": {
      "text/plain": [
       "<function matplotlib.pyplot.show(close=None, block=None)>"
      ]
     },
     "execution_count": 19,
     "metadata": {},
     "output_type": "execute_result"
    },
    {
     "data": {
      "image/png": "[encoded data removed]",
      "text/plain": [
       "<Figure size 720x720 with 2 Axes>"
      ]
     },
     "metadata": {
      "needs_background": "light"
     },
     "output_type": "display_data"
    }
   ],
   "source": [
    "#panel number \n",
    "k=7\n",
    "plt.rcParams['figure.figsize'] = [10, 10]\n",
    "plt.matshow(new_mask[k,:,:], vmin=1, vmax=0)\n",
    "plt.colorbar()\n",
    "plt.show"
   ]
  },
  {
   "cell_type": "code",
   "execution_count": null,
   "id": "a2cce135-848b-477b-a73b-d3e1801cf191",
   "metadata": {},
   "outputs": [],
   "source": []
  },
  {
   "cell_type": "code",
   "execution_count": 20,
   "id": "2219ea79-2950-4c4b-b793-e22582d5a792",
   "metadata": {},
   "outputs": [],
   "source": [
    "with h5py.File('sam_lyso_mask_3.h5', 'w') as fout:\n",
    "    fout.create_dataset('/entry_1/data_1/mask', data=new_mask, dtype='int32')"
   ]
  },
  {
   "cell_type": "code",
   "execution_count": null,
   "id": "d237fec0-dc53-48e2-b5b4-c572eb4773c3",
   "metadata": {},
   "outputs": [],
   "source": [
    "!pwd\n"
   ]
  },
  {
   "cell_type": "code",
   "execution_count": null,
   "id": "4ce5e600-fccf-4111-a090-1109585d482c",
   "metadata": {},
   "outputs": [],
   "source": [
    "hf = h5py.File(\"sam_DESY_mask.h5\", 'r')\n",
    "mask= np.array(hf['/entry_1/data_1/mask'][:]) "
   ]
  },
  {
   "cell_type": "code",
   "execution_count": null,
   "id": "1d43a1fe-7f95-402b-aa36-95611775e882",
   "metadata": {},
   "outputs": [],
   "source": [
    "print(mask)"
   ]
  },
  {
   "cell_type": "code",
   "execution_count": null,
   "id": "18ec21f1-76d0-49a2-8ccc-4a9019213541",
   "metadata": {},
   "outputs": [],
   "source": []
  }
 ],
 "metadata": {
  "kernelspec": {
   "display_name": "xfel (202301; Python 3.9)",
   "language": "python",
   "name": "xfel-202301"
  },
  "language_info": {
   "codemirror_mode": {
    "name": "ipython",
    "version": 3
   },
   "file_extension": ".py",
   "mimetype": "text/x-python",
   "name": "python",
   "nbconvert_exporter": "python",
   "pygments_lexer": "ipython3",
   "version": "3.9.16"
  }
 },
 "nbformat": 4,
 "nbformat_minor": 5
}
