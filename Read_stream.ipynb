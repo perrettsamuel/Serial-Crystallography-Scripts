{
 "cells": [
  {
   "cell_type": "code",
   "execution_count": 1,
   "id": "7160e401-a60f-4115-bd0e-3388242b44ac",
   "metadata": {},
   "outputs": [],
   "source": [
    "import sys\n",
    "import argparse\n",
    "import numpy as np\n",
    "import h5py\n",
    "from extra_data import open_run\n",
    "from tqdm import tqdm\n",
    "from IPython.display import clear_output, display\n",
    "#from ppxfl import *\n",
    "\n",
    "from matplotlib import pyplot as plt"
   ]
  },
  {
   "cell_type": "code",
   "execution_count": 5,
   "id": "64866f35-d749-4683-bcc3-7af59326881b",
   "metadata": {},
   "outputs": [
    {
     "name": "stdout",
     "output_type": "stream",
     "text": [
      "(17873,)\n"
     ]
    }
   ],
   "source": [
    "\n",
    "f = open(\"/gpfs/exfel/u/scratch/FXE/202202/p002808/turkot/peakogram_investigation/xwiz/r0241/t_31/r0241_post_cal_03.stream\")\n",
    "Event_Num =[]\n",
    "Event_Intensity=[]\n",
    "Event_list =[]\n",
    "for line in f:\n",
    "        if line.find(\"Image serial number\") != -1:\n",
    "            Event_Num = line.split()[3]\n",
    "            Event_Intensity=[]\n",
    "            Event_list.append(Event_Num)\n",
    "Event_list = np.array(Event_list)   \n",
    "Event_list = Event_list.astype(int)\n",
    "Event_list = Event_list -1\n",
    "print(np.shape(Event_list))"
   ]
  },
  {
   "cell_type": "code",
   "execution_count": null,
   "id": "9138b222-f4db-47e4-90d8-c1090fec9c5c",
   "metadata": {},
   "outputs": [],
   "source": []
  },
  {
   "cell_type": "code",
   "execution_count": 3,
   "id": "70887697-41c6-43b2-ba51-751c5f18b253",
   "metadata": {},
   "outputs": [
    {
     "name": "stdout",
     "output_type": "stream",
     "text": [
      "# of trains:    6718\n",
      "Duration:       0:11:11.8\n",
      "First train ID: 1530088881\n",
      "Last train ID:  1530095598\n",
      "\n",
      "16 detector modules (FXE_DET_LPD1M-1)\n",
      "  e.g. module FXE_DET_LPD1M-1 0 : 256 x 256 pixels\n",
      "  FXE_DET_LPD1M-1/DET/0CH0:xtdf\n",
      "  9 frames per train, up to 60462 frames total\n",
      "\n",
      "6 instrument sources (excluding detectors):\n",
      "  - FXE_AUXT_LIC/DOOCS/BAM_1932M:output\n",
      "  - FXE_AUXT_LIC/DOOCS/BAM_1932S:output\n",
      "  - FXE_RR_DAQ/ADC/1:network\n",
      "  - FXE_SMS_MOV/CAM/XEYE:daqOutput\n",
      "  - SA1_XTD2_XGM/DOOCS/MAIN:output\n",
      "  - SPB_XTD9_XGM/DOOCS/MAIN:output\n",
      "\n",
      "32 control sources:\n",
      "  - FXE_AUXT_LIC/DOOCS/BAM_1932M\n",
      "  - FXE_AUXT_LIC/DOOCS/BAM_1932S\n",
      "  - FXE_AUXT_LIC/DOOCS/PPLASER\n",
      "  - FXE_AUXT_LIC/DOOCS/PPODL\n",
      "  - FXE_DET_LPD1M-1/COMP/FEM_MDL_COMP\n",
      "  - FXE_DET_MOV/MOTOR/X\n",
      "  - FXE_DET_MOV/MOTOR/Y\n",
      "  - FXE_DET_MOV/MOTOR/Z\n",
      "  - FXE_SMS_MOV/CAM/XEYE\n",
      "  - FXE_SMS_USR/MOTOR/UM01\n",
      "  - FXE_SMS_USR/MOTOR/UM02\n",
      "  - FXE_SMS_USR/MOTOR/UM03\n",
      "  - FXE_SMS_USR/MOTOR/UM04\n",
      "  - FXE_SMS_USR/MOTOR/UM05\n",
      "  - FXE_SMS_USR/MOTOR/UM06\n",
      "  - FXE_SMS_USR/MOTOR/UM07\n",
      "  - FXE_SMS_USR/MOTOR/UM08\n",
      "  - FXE_SMS_USR/MOTOR/UM09\n",
      "  - FXE_SMS_USR/MOTOR/UM10\n",
      "  - FXE_SMS_USR/MOTOR/UM11\n",
      "  - FXE_SMS_USR/MOTOR/UM12\n",
      "  - FXE_SMS_USR/MOTOR/UM13\n",
      "  - FXE_SMS_USR/MOTOR/UM14\n",
      "  - FXE_SMS_USR/MOTOR/UM15\n",
      "  - FXE_SMS_USR/MOTOR/UM16\n",
      "  - FXE_SMS_USR/MOTOR/UM17\n",
      "  - FXE_SMS_USR/MOTOR/UM18\n",
      "  - FXE_SMS_USR/MOTOR/UM19\n",
      "  - FXE_SMS_USR/MOTOR/UM20\n",
      "  - SA1_RR_UTC/MDL/BUNCH_DECODER\n",
      "  - SA1_XTD2_XGM/DOOCS/MAIN\n",
      "  - SPB_XTD9_XGM/DOOCS/MAIN\n",
      "\n"
     ]
    }
   ],
   "source": [
    "proposal = 2808\n",
    "run      = 241\n",
    "run = open_run(proposal=proposal, run=run, data=\"raw\")\n",
    "run.info()"
   ]
  },
  {
   "cell_type": "code",
   "execution_count": 4,
   "id": "021e3771-6a72-48aa-87fb-246746cbdf2b",
   "metadata": {},
   "outputs": [],
   "source": [
    "data_module0_raw= run['FXE_DET_LPD1M-1/DET/7CH0:xtdf', 'image.data'].ndarray()"
   ]
  },
  {
   "cell_type": "code",
   "execution_count": null,
   "id": "607b259f-4b0a-421f-b57c-dcc79f38d0de",
   "metadata": {},
   "outputs": [],
   "source": [
    "np.shape(data_module0_proc_proc)"
   ]
  },
  {
   "cell_type": "code",
   "execution_count": 5,
   "id": "4fb56f40-2332-4ebc-a638-d514d916979c",
   "metadata": {},
   "outputs": [],
   "source": [
    "data_module0_raw = np.squeeze(data_module0_raw, axis=1)"
   ]
  },
  {
   "cell_type": "code",
   "execution_count": null,
   "id": "b112635d-fff3-4d3f-b1e3-8dc7be381304",
   "metadata": {},
   "outputs": [],
   "source": [
    "[frames,pix,pix] = np.shape(data_module0)\n",
    "hit_only_data_module0 = []\n",
    "hit_only_data_module0 = np.array([data_module0[i] for i in Event_list])\n",
    "print(np.shape(hit_only_data_module0))"
   ]
  },
  {
   "cell_type": "code",
   "execution_count": null,
   "id": "fcf28a0c-0325-4442-b02b-986d7c62f3a0",
   "metadata": {},
   "outputs": [],
   "source": [
    "hits =np.zeros([1,3])\n",
    "intenisty_cutoff = 15000\n",
    "\n",
    "for i in range(0,256):\n",
    "    clear_output(wait=True)\n",
    "    print(i)\n",
    "    for j in range(0,256): \n",
    "        idx = hit_only_data_module0[:,i,j][hit_only_data_module0[:,i,j]> intenisty_cutoff]\n",
    "\n",
    "        for k in range(0,len(idx)):\n",
    "            newrow =[i,j,idx[k]]\n",
    "            hits = np.vstack([hits, newrow])\n",
    "print(np.shape(hits))            "
   ]
  },
  {
   "cell_type": "code",
   "execution_count": null,
   "id": "62723e50-0e18-4e8d-927c-185a96ddeb8c",
   "metadata": {},
   "outputs": [],
   "source": [
    "pixel_marker = np.zeros([256,256])\n",
    "[hit_shape,hit_shape_1] = np.shape(hits)\n",
    "for idx in range(0,(hit_shape)):\n",
    "    [i,j,k] = hits[idx,:]\n",
    "    pixel_marker[int(i),int(j)] = pixel_marker[int(i),int(j)] + 1"
   ]
  },
  {
   "cell_type": "code",
   "execution_count": null,
   "id": "1475ad21-b762-4edd-b5ec-3c08ca33f36a",
   "metadata": {
    "tags": []
   },
   "outputs": [],
   "source": [
    "%matplotlib inline \n",
    "#Vertical is the first number (i) and horizontal is j #\n",
    "plt.rcParams['figure.figsize'] = [10, 10]\n",
    "plt.matshow(pixel_marker, vmin=0, vmax=50)\n",
    "plt.colorbar()\n",
    "plt.title('Number or times pixels have exceeded 15000 counts, panel 12 run 241')\n",
    "plt.show"
   ]
  },
  {
   "cell_type": "code",
   "execution_count": null,
   "id": "222356fc-aa29-44d8-a35f-b207ea5f4b21",
   "metadata": {},
   "outputs": [],
   "source": [
    "all_hits = np.reshape(hit_only_data_module0, (1,np.product(hit_only_data_module0.shape)))[0]\n",
    "plt.hist(all_hits[:,], bins=5000)\n",
    "plt.rcParams['figure.figsize'] = [10, 10]\n",
    "plt.ylim([0, 0.6e7])\n",
    "plt.xlim([-100, 1000])\n",
    "plt.show()\n",
    "##"
   ]
  },
  {
   "cell_type": "code",
   "execution_count": 12,
   "id": "da04e06b-dce2-4f88-b7cf-36a785af5533",
   "metadata": {
    "tags": []
   },
   "outputs": [
    {
     "data": {
      "image/png": "[encoded data removed]",
      "text/plain": [
       "<Figure size 360x360 with 1 Axes>"
      ]
     },
     "metadata": {
      "needs_background": "light"
     },
     "output_type": "display_data"
    }
   ],
   "source": [
    "plt.rcParams['figure.figsize'] = [5, 5]\n",
    "plt.hist(data_module0_raw[:,190,220], bins=1000)\n",
    "plt.xlabel(\"Intenisty\")\n",
    "plt.ylabel(\"Number\")\n",
    "plt.xlim([0, 10000])\n",
    "#plt.ylim([0, 50])\n",
    "plt.show()"
   ]
  },
  {
   "cell_type": "code",
   "execution_count": null,
   "id": "962cf0aa-dcde-4000-be52-2314135a67c5",
   "metadata": {},
   "outputs": [],
   "source": []
  }
 ],
 "metadata": {
  "kernelspec": {
   "display_name": "Python 3.9",
   "language": "python",
   "name": "python3"
  },
  "language_info": {
   "codemirror_mode": {
    "name": "ipython",
    "version": 3
   },
   "file_extension": ".py",
   "mimetype": "text/x-python",
   "name": "python",
   "nbconvert_exporter": "python",
   "pygments_lexer": "ipython3",
   "version": "3.9.16"
  }
 },
 "nbformat": 4,
 "nbformat_minor": 5
}
